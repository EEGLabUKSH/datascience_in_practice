{
 "cells": [
  {
   "attachments": {},
   "cell_type": "markdown",
   "metadata": {},
   "source": [
    "# s01: Python Basics"
   ]
  },
  {
   "cell_type": "markdown",
   "metadata": {
    "collapsed": true
   },
   "source": [
    "<br>\n",
    "<br>\n",
    "<img src=\"img/python.png\" width=\"400px\">\n",
    "<br>\n",
    "<br>"
   ]
  },
  {
   "attachments": {},
   "cell_type": "markdown",
   "metadata": {},
   "source": [
    "## Objectives\n",
    "\n",
    "   - Get a *very* short introduction to Python types and syntax\n",
    "   - Be able to follow the rest of the examples in the course, even if you don't understand everything perfectly.\n",
    "\n",
    "   We expect everyone to be able to know the following basic material\n",
    "   to follow the course (though it is not *everything* you need to\n",
    "   know about Python).\n"
   ]
  },
  {
   "attachments": {},
   "cell_type": "markdown",
   "metadata": {},
   "source": [
    "## Scalars\n",
    "\n",
    "Scalar types, that is, single elements of various types:"
   ]
  },
  {
   "cell_type": "code",
   "execution_count": 1,
   "metadata": {},
   "outputs": [],
   "source": [
    "i = 42       # integer\n",
    "i = 2**77    # Integers have arbitrary precision\n",
    "g = 3.14     # floating point number\n",
    "c = 2 - 3j   # Complex number\n",
    "b = True     # boolean\n",
    "s = \"Hello!\" # String (Unicode)\n",
    "q = b'Hello' # bytes (8-bit values)"
   ]
  },
  {
   "attachments": {},
   "cell_type": "markdown",
   "metadata": {},
   "source": [
    "## Collections\n",
    "\n",
    "Collections are data structures capable of storing multiple values."
   ]
  },
  {
   "cell_type": "code",
   "execution_count": 2,
   "metadata": {},
   "outputs": [
    {
     "name": "stdout",
     "output_type": "stream",
     "text": [
      "[1, 2, 3]\n",
      "[1, True, 3]\n",
      "\n",
      "\n",
      "dict_keys(['Janne', 'Richard'])\n",
      "dict_values([123, 456])\n",
      "\n",
      "\n"
     ]
    }
   ],
   "source": [
    "l = [1, 2, 3]                      # list\n",
    "l[1]                               # lists are indexed by int\n",
    "print(l)\n",
    "l[1] = True                        # list elements can be any type and changes now\n",
    "print(l)\n",
    "print('\\n')\n",
    "\n",
    "d = {\"Janne\": 123, \"Richard\": 456} # dictionary\n",
    "d[\"Janne\"]\n",
    "print(d.keys()) # this gets all the keys from a dict\n",
    "print(d.values()) # this extract all values from dict\n",
    "print('\\n')\n"
   ]
  },
  {
   "attachments": {},
   "cell_type": "markdown",
   "metadata": {},
   "source": [
    "## Control structures\n",
    "\n",
    "Python has the usual control structures, that is conditional statements and loops. For example, the `if` statement:"
   ]
  },
  {
   "cell_type": "code",
   "execution_count": 3,
   "metadata": {},
   "outputs": [
    {
     "name": "stdout",
     "output_type": "stream",
     "text": [
      "x is 2\n"
     ]
    }
   ],
   "source": [
    "x = 2\n",
    "if x == 3:\n",
    "    print('x is 3')\n",
    "elif x == 2:\n",
    "    print('x is 2')\n",
    "else:\n",
    "    print('x is something else')"
   ]
  },
  {
   "attachments": {},
   "cell_type": "markdown",
   "metadata": {},
   "source": [
    "While `while` loops loop until some condition is met:"
   ]
  },
  {
   "cell_type": "code",
   "execution_count": 4,
   "metadata": {},
   "outputs": [
    {
     "name": "stdout",
     "output_type": "stream",
     "text": [
      "x is  0\n",
      "x is  5\n",
      "x is  10\n",
      "x is  15\n",
      "x is  20\n",
      "x is  25\n",
      "x is  30\n",
      "x is  35\n",
      "x is  40\n"
     ]
    }
   ],
   "source": [
    "x = 0\n",
    "while x < 42:\n",
    "    print('x is ', x)\n",
    "    x += 5"
   ]
  },
  {
   "attachments": {},
   "cell_type": "markdown",
   "metadata": {},
   "source": [
    "For `for` loops loop over some collection of values:"
   ]
  },
  {
   "cell_type": "code",
   "execution_count": 5,
   "metadata": {},
   "outputs": [
    {
     "name": "stdout",
     "output_type": "stream",
     "text": [
      "1\n",
      "2\n",
      "3\n",
      "4\n"
     ]
    }
   ],
   "source": [
    "xs = [1, 2, 3, 4]\n",
    "for x in xs:\n",
    "    print(x)"
   ]
  },
  {
   "attachments": {},
   "cell_type": "markdown",
   "metadata": {},
   "source": [
    "You can nicely iterate over elements of a list using the `for` loop independet of the datatype it is holding:"
   ]
  },
  {
   "cell_type": "code",
   "execution_count": 6,
   "metadata": {},
   "outputs": [
    {
     "name": "stdout",
     "output_type": "stream",
     "text": [
      "1\n",
      "b\n",
      "True\n"
     ]
    }
   ],
   "source": [
    "l = [1,'b',True,]\n",
    "\n",
    "for e in l:\n",
    "    print(e)"
   ]
  },
  {
   "attachments": {},
   "cell_type": "markdown",
   "metadata": {},
   "source": [
    "A common need is to iterate over a collection, but at the same time also have an index number. For this there is the `enumerate` function:"
   ]
  },
  {
   "cell_type": "code",
   "execution_count": 7,
   "metadata": {},
   "outputs": [
    {
     "name": "stdout",
     "output_type": "stream",
     "text": [
      "0 1\n",
      "1 hello\n",
      "2 world\n"
     ]
    }
   ],
   "source": [
    "xs = [1, 'hello', 'world']\n",
    "for ii, x in enumerate(xs):\n",
    "    print(ii, x)"
   ]
  },
  {
   "attachments": {},
   "cell_type": "markdown",
   "metadata": {},
   "source": [
    "## List comprehensions\n",
    "\n",
    "List Comprehensions are an alternative way to elegantly create lists. List Comprehensions are basically loops, but you can make them syntactically more compact (strictly speaking, List Comprehensions are not really necessary, because you can't do anything with them that wouldn't be possible otherwise).\n",
    "\n",
    "Let's take as an example a list of square numbers from 0 to 9. With a normal loop you would create this list like this"
   ]
  },
  {
   "cell_type": "code",
   "execution_count": 8,
   "metadata": {},
   "outputs": [
    {
     "data": {
      "text/plain": [
       "[0, 1, 4, 9, 16, 25, 36, 49, 64, 81]"
      ]
     },
     "execution_count": 8,
     "metadata": {},
     "output_type": "execute_result"
    }
   ],
   "source": [
    "squares = []  # wir beginnen mit leerer Liste\n",
    "for x in range(10):\n",
    "    squares.append(x**2)  # Liste wird befüllt\n",
    "\n",
    "squares"
   ]
  },
  {
   "attachments": {},
   "cell_type": "markdown",
   "metadata": {},
   "source": [
    "The same result can be written much shorter with a List Comprehension:"
   ]
  },
  {
   "cell_type": "code",
   "execution_count": 9,
   "metadata": {},
   "outputs": [
    {
     "data": {
      "text/plain": [
       "[0, 1, 4, 9, 16, 25, 36, 49, 64, 81]"
      ]
     },
     "execution_count": 9,
     "metadata": {},
     "output_type": "execute_result"
    }
   ],
   "source": [
    "squares = [x**2 for x in range(10)]\n",
    "squares"
   ]
  },
  {
   "attachments": {},
   "cell_type": "markdown",
   "metadata": {},
   "source": [
    "The ingredients of a List Comprehension are:\n",
    "\n",
    "- Two enclosing square brackets (which, after all, define a list).\n",
    "- An expression\n",
    "- A for statement (which iterates over an object)\n",
    "- *Optionally an if-condition*\n",
    "- *Optionally further for-statements*\n",
    "\n",
    "A relatively complex example might look like the following:"
   ]
  },
  {
   "cell_type": "code",
   "execution_count": 10,
   "metadata": {},
   "outputs": [
    {
     "data": {
      "text/plain": [
       "[(0, 1), (0, 2), (1, 1), (1, -1), (1, 2), (2, -1), (2, 2)]"
      ]
     },
     "execution_count": 10,
     "metadata": {},
     "output_type": "execute_result"
    }
   ],
   "source": [
    "[(x - 1, y - 2) for x in [1, 2, 3] for y in [3, 1, 4] if x != y]"
   ]
  },
  {
   "attachments": {},
   "cell_type": "markdown",
   "metadata": {},
   "source": [
    "## Functions and classes\n",
    "\n",
    "Python functions are defined by the `def` keyword. They take a number of arguments, and return a number of return values."
   ]
  },
  {
   "cell_type": "code",
   "execution_count": 11,
   "metadata": {},
   "outputs": [
    {
     "name": "stdout",
     "output_type": "stream",
     "text": [
      "Hello Anne\n"
     ]
    }
   ],
   "source": [
    "def say_hello(name):\n",
    "    \"\"\"Say hello to the person given by the argument\"\"\"\n",
    "    print('Hello', name)\n",
    "    return 'Hello ' + name\n",
    "\n",
    "str_out = say_hello(\"Anne\")"
   ]
  },
  {
   "attachments": {},
   "cell_type": "markdown",
   "metadata": {},
   "source": [
    "<div class=\"alert alert-info\">\n",
    "There is a great tutorial on python functions by  \n",
    "<a href=https://cbrnr.quarto.pub/python-22w-04/ class=\"alert-link\">Clemens Brunner</a>.\n",
    "</div>"
   ]
  },
  {
   "attachments": {},
   "cell_type": "markdown",
   "metadata": {},
   "source": [
    "Classes are defined by the `class` keyword:"
   ]
  },
  {
   "cell_type": "code",
   "execution_count": 12,
   "metadata": {},
   "outputs": [
    {
     "name": "stdout",
     "output_type": "stream",
     "text": [
      "Hello Richard\n"
     ]
    }
   ],
   "source": [
    "class Hello:\n",
    "    def __init__(self, name):\n",
    "        self._name = name\n",
    "    def say(self):\n",
    "        print('Hello', self._name)\n",
    "\n",
    "h = Hello(\"Richard\")\n",
    "h.say()"
   ]
  }
 ],
 "metadata": {
  "anaconda-cloud": {},
  "kernelspec": {
   "display_name": "Python 3.9.13 64-bit (windows store)",
   "language": "python",
   "name": "python3"
  },
  "language_info": {
   "codemirror_mode": {
    "name": "ipython",
    "version": 3
   },
   "file_extension": ".py",
   "mimetype": "text/x-python",
   "name": "python",
   "nbconvert_exporter": "python",
   "pygments_lexer": "ipython3",
   "version": "3.9.13 (tags/v3.9.13:6de2ca5, May 17 2022, 16:36:42) [MSC v.1929 64 bit (AMD64)]"
  },
  "vscode": {
   "interpreter": {
    "hash": "23b4a3e8622309bcc6db3d5cc6eb73d60ab98d9ec23bad6a26b709981ccb403a"
   }
  }
 },
 "nbformat": 4,
 "nbformat_minor": 1
}

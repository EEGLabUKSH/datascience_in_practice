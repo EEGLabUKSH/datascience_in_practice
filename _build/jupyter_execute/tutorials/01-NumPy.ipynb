{
 "cells": [
  {
   "cell_type": "markdown",
   "metadata": {},
   "source": [
    "# s01: NumPy\n",
    "<br>\n",
    "<br>\n",
    "<img src=\"img/numpy_logo.png\" width=\"200px\">\n",
    "<br>\n",
    "<br>\n",
    "This is a quick introduction to the Numpy package."
   ]
  },
  {
   "cell_type": "markdown",
   "metadata": {},
   "source": [
    "## Objectives of this session:\n",
    "\n",
    "- Understand the Numpy array object\n",
    "- Be able to use basic NumPy functionality\n",
    "- Understand enough of NumPy to seach for answers to the rest of your questions ;)\n",
    "\n",
    "So, we already know about python lists, and that we can put all kinds of things in there. But in scientific usage, lists are often not enough. They are slow and not very flexible."
   ]
  },
  {
   "cell_type": "code",
   "execution_count": 1,
   "metadata": {},
   "outputs": [],
   "source": [
    "# first things first, import the package\n",
    "import numpy as np"
   ]
  },
  {
   "cell_type": "markdown",
   "metadata": {},
   "source": [
    "## What is an array?\n",
    "\n",
    "For example, consider `[1, 2.5, 'asdf', False, [1.5, True]]` - this is a Python list but it has different types for every element. When you do math on this, every element has to be handled separately.\n",
    "\n",
    "NumPy is the most used library for scientific computing. Even if you are not using it directly, chances are high that some library uses it in the background. NumPy provides the high-performance multidimensional array object and tools to use it.\n",
    "\n",
    "An array is a ‘grid’ of values, with all the same types. It is indexed by tuples of non negative indices and provides the framework for multiple dimensions. An array has:\n",
    "\n",
    "- data - raw data storage in memory.\n",
    "- [dtype](https://numpy.org/doc/stable/reference/arrays.dtypes.html#arrays-dtypes) - data type. Arrays always contain one type\n",
    "- [shape](https://numpy.org/doc/stable/glossary.html#term-shape) - shape of the data, for example 3×2 or 3×2×500 or even 500 (one dimensional) or `[]` (zero dimensional)."
   ]
  },
  {
   "cell_type": "markdown",
   "metadata": {},
   "source": [
    "`a = np.arange(1,17,1)`\n",
    "\n",
    "\n",
    "$$\n",
    "\n",
    "\\begin{bmatrix}\n",
    "1 & 2 & 3 & 4 & 5 & 6 & 7 & 8 & 9 & 10 & 11 & 12 & 13 & 14 & 15 & 16\n",
    "\\end{bmatrix}\n",
    "\n",
    "$$\n",
    "\n",
    "\n",
    "`a = np.arange(1,17,1).reshape(4, 4)`\n",
    "\n",
    "$$\n",
    "\n",
    "\\begin{bmatrix}\n",
    "1 & 2 & 3 & 4\\\\\n",
    "5 & 6 & 7 & 8\\\\\n",
    "9 & 10 & 11 & 12\\\\\n",
    "13 & 14 & 15 & 16\n",
    "\\end{bmatrix}\n",
    "\n",
    "$$\n"
   ]
  },
  {
   "cell_type": "markdown",
   "metadata": {},
   "source": [
    "## Creating arrays\n",
    "\n",
    "There are different ways of creating arrays (numpy.array(), numpy.ndarray.shape, numpy.ndarray.size):"
   ]
  },
  {
   "cell_type": "code",
   "execution_count": 2,
   "metadata": {},
   "outputs": [
    {
     "data": {
      "text/plain": [
       "6"
      ]
     },
     "execution_count": 2,
     "metadata": {},
     "output_type": "execute_result"
    }
   ],
   "source": [
    "a = np.array([1,2,3])               # 1-dimensional array \n",
    "b = np.array([[1,2,3],[4,5,6]])     # 2-dimensional array \n",
    "\n",
    "b.shape                             # the shape (rows,columns)\n",
    "b.size                              # number of elements"
   ]
  },
  {
   "cell_type": "markdown",
   "metadata": {},
   "source": [
    "In addition to above ways of creating arrays, there are many other ways of creating arrays depending on content (`numpy.zeros()`, `numpy.ones()`, `numpy.arange()`, `numpy.linspace()`):"
   ]
  },
  {
   "cell_type": "code",
   "execution_count": 3,
   "metadata": {},
   "outputs": [],
   "source": [
    "np.zeros((2, 3))             # 2x3 array with all elements 0\n",
    "np.ones((1,2))               # 1x2 array with all elements 1\n",
    "\n",
    "np.arange(10)                # Evenly spaced values in an interval\n",
    "np.linspace(0,9,10)          # same as above, see exercise\n",
    "\n",
    "c = np.ones((3,3))\n",
    "d = np.ones((3, 2), 'bool')  # 3x2 boolean array"
   ]
  },
  {
   "cell_type": "markdown",
   "metadata": {},
   "source": [
    "In many occasions (especially when something goes different than expected) it is useful to check and control the datatype of the array (numpy.ndarray.dtype, numpy.ndarray.astype()):"
   ]
  },
  {
   "cell_type": "code",
   "execution_count": 4,
   "metadata": {},
   "outputs": [
    {
     "data": {
      "text/plain": [
       "array([[1, 1],\n",
       "       [1, 1],\n",
       "       [1, 1]])"
      ]
     },
     "execution_count": 4,
     "metadata": {},
     "output_type": "execute_result"
    }
   ],
   "source": [
    "d.dtype                    # datatype of the array\n",
    "d.astype('int')            # change datatype from boolean to integer"
   ]
  },
  {
   "cell_type": "markdown",
   "metadata": {},
   "source": [
    "## Array maths and vectorization\n",
    "\n",
    "Clearly, you can do math on arrays. Math in NumPy is very fast because it is implemented in C or Fortran - just like most other high-level languages such as R, Matlab, etc do.\n",
    "\n",
    "By default, basic arithmetic (+, -, *, /) in NumPy is element-by-element. That is, the operation is performed for each element in the array without you having to write a loop. We say an operation is “vectorized” when the looping over elements is carried out by NumPy internally, which uses specialized CPU instructions for this that greatly outperform a regular Python loop.\n",
    "\n"
   ]
  },
  {
   "cell_type": "code",
   "execution_count": 5,
   "metadata": {},
   "outputs": [
    {
     "name": "stdout",
     "output_type": "stream",
     "text": [
      "The mean of d is 9.0\n"
     ]
    }
   ],
   "source": [
    "a = np.array([[1,2],[3,4]])\n",
    "b = np.array([[5,6],[7,8]])\n",
    "\n",
    "# Addition\n",
    "c = a + b\n",
    "d = np.add(a,b)\n",
    "\n",
    "# Standard stats\n",
    "d_mean = np.mean(d)\n",
    "print(\"The mean of d is {}\".format(d_mean))\n"
   ]
  },
  {
   "cell_type": "markdown",
   "metadata": {},
   "source": [
    "Imagine you have the numpy array as a variable (`data`  in the example below). On this array you can perform numpy functions such as `max`, `min` or `sum`, just to name a few.\n",
    "<br>\n",
    "<br>\n",
    "<img src=\"img/np_aggregation.png\">\n",
    "<br>\n",
    "<br>"
   ]
  },
  {
   "cell_type": "markdown",
   "metadata": {},
   "source": [
    "## Indexing and Slicing"
   ]
  },
  {
   "cell_type": "markdown",
   "metadata": {},
   "source": [
    "See also [Numpy basic indexing docs](https://numpy.org/doc/stable/user/basics.indexing.html#basics-indexing)"
   ]
  },
  {
   "cell_type": "markdown",
   "metadata": {},
   "source": [
    "Using positional indexing, you can select a subset of the array by adressing row and/or columns using brackets (`[]`). See the example below.\n",
    "<br>\n",
    "<br>\n",
    "<img src=\"img/np_matrix_indexing.png\">\n",
    "<br>\n",
    "<br>\n",
    "In positional indexing you can specify up to three inputs. The basic syntax is `[i:j:k]` where `i` is the starting index, `j` is the stopping index, and `k` is the step.\n",
    "See the [examples](https://numpy.org/doc/stable/user/basics.indexing.html#basics-indexing) provided by numpy."
   ]
  },
  {
   "cell_type": "markdown",
   "metadata": {},
   "source": [
    "NumPy has many ways to extract values out of arrays:\n",
    "\n",
    "- You can select a single element\n",
    "- You can select rows or columns\n",
    "- You can select ranges where a condition is true."
   ]
  },
  {
   "cell_type": "code",
   "execution_count": 6,
   "metadata": {},
   "outputs": [],
   "source": [
    "a = np.arange(1,17,1).reshape(4, 4)  # 4x4 matrix from 0 to 15\n",
    "a[0]                             # first row\n",
    "a[:,0]                           # first column\n",
    "b = a[1:3,1:3]                   # middle 2x2 array"
   ]
  },
  {
   "cell_type": "code",
   "execution_count": 7,
   "metadata": {},
   "outputs": [
    {
     "name": "stdout",
     "output_type": "stream",
     "text": [
      "[[False False False False]\n",
      " [False  True  True  True]\n",
      " [ True  True  True  True]\n",
      " [ True  True  True  True]]\n"
     ]
    }
   ],
   "source": [
    "idx = (a > 5)      # creates boolean matrix of same size as a\n",
    "a[idx]             # array with matching values of above criterion\n",
    "\n",
    "a[a > 5]           # same as above in one line\n",
    "\n",
    "print(idx)"
   ]
  },
  {
   "attachments": {},
   "cell_type": "markdown",
   "metadata": {},
   "source": [
    "<div class=\"alert alert-danger\">\n",
    "Task 1.4: Create a random array with elements between 0 and 1. Then add 10 to all elements in the range [0.2, 0.7). (2 points)\n",
    "<p> </p>\n",
    "</div>"
   ]
  },
  {
   "cell_type": "markdown",
   "metadata": {},
   "source": [
    "## Types of operations"
   ]
  },
  {
   "cell_type": "markdown",
   "metadata": {},
   "source": [
    "There are different types of standard operations in NumPy:\n",
    "\n",
    "- One, two, or three input arguments\n",
    "- For example, `a + b` is similar to `np.add(a, b)` but the ufunc has more control.\n",
    "- `out =` output argument, store output in this array (rather than make a new array) - saves copying data!\n",
    "- A very comprehensiv and easy overview can be found [here](https://numpy.org/doc/stable/user/absolute_beginners.html)\n",
    "\n"
   ]
  },
  {
   "cell_type": "markdown",
   "metadata": {},
   "source": [
    "If you have a multiple dimensional array, you can specify the axis over which the operations should be done using the key `axis = ` in the numpy functions.\n",
    "<br>\n",
    "<br>\n",
    "<img src=\"img/np_matrix_aggregation_row.png\">\n",
    "<br>\n",
    "<br>"
   ]
  },
  {
   "cell_type": "code",
   "execution_count": 8,
   "metadata": {},
   "outputs": [
    {
     "data": {
      "text/plain": [
       "array([[ 0,  1,  2,  3],\n",
       "       [ 4,  5,  6,  7],\n",
       "       [ 8,  9, 10, 11]])"
      ]
     },
     "execution_count": 8,
     "metadata": {},
     "output_type": "execute_result"
    }
   ],
   "source": [
    "x = np.arange(12).reshape(3,4)\n",
    "                    #  array([[ 0,  1,  2,  3],\n",
    "                    #         [ 4,  5,  6,  7],\n",
    "                    #         [ 8,  9, 10, 11]])\n",
    "\n",
    "x.max()             #  11\n",
    "x.max(axis=0)       #  array([ 8,  9, 10, 11])\n",
    "x.max(axis=1)       #  array([ 3,  7, 11])\n",
    "\n",
    "x"
   ]
  },
  {
   "attachments": {},
   "cell_type": "markdown",
   "metadata": {},
   "source": [
    "<div class=\"alert alert-danger\">\n",
    "<b>Task 1.5</b>: \n",
    "<ul>\n",
    "Create a (8, 8)-array called chess with a chessboard pattern (use the values 0 and 1 for this). There are many possible solutions, feel free to give several variants. For example, see the help for the function np.tile, or first create an array of all zeros and then insert ones at the appropriate places (e.g. by indexing appropriately). (3 points)\n",
    "</ul>\n",
    "</div>"
   ]
  }
 ],
 "metadata": {
  "kernelspec": {
   "display_name": "Python 3 (ipykernel)",
   "language": "python",
   "name": "python3"
  },
  "language_info": {
   "codemirror_mode": {
    "name": "ipython",
    "version": 3
   },
   "file_extension": ".py",
   "mimetype": "text/x-python",
   "name": "python",
   "nbconvert_exporter": "python",
   "pygments_lexer": "ipython3",
   "version": "3.8.13"
  },
  "vscode": {
   "interpreter": {
    "hash": "23b4a3e8622309bcc6db3d5cc6eb73d60ab98d9ec23bad6a26b709981ccb403a"
   }
  }
 },
 "nbformat": 4,
 "nbformat_minor": 2
}
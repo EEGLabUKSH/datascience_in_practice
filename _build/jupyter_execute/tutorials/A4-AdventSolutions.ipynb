{
 "cells": [
  {
   "cell_type": "markdown",
   "id": "626c1e28",
   "metadata": {},
   "source": [
    "# Appendix: Adventcalender solutions"
   ]
  },
  {
   "cell_type": "markdown",
   "id": "4431a4ee",
   "metadata": {},
   "source": [
    "Ab morgen geht in der WG der Adventskalender los. Leider gibt es noch keine Reihenfolge, wer wann ein Päckchen  öffnen darf. \n",
    "\n",
    "Natürlich kann seit diesem Jahr auch Python genutzt werden um das Problem zu lösen. Wer eine Lösung einer randomisierten Ziehung für die Mitbewohnenden (mitbewohner_innen = [\"Charlotte\", \"Elli\", \"Malena\", \"Felix\", \"Vanessa\", \"Julius\"]) - 01.12. bis 24.12.- bis nächste Woche zum Seminar einsendet, bekommt einen Joker für eine Woche Aufgaben. Alle sollten natürlich gleich viele Päckchen bekommen."
   ]
  },
  {
   "cell_type": "markdown",
   "id": "3391a048",
   "metadata": {},
   "source": [
    "## Filenames examples"
   ]
  },
  {
   "cell_type": "code",
   "execution_count": 1,
   "id": "5bb12d43",
   "metadata": {},
   "outputs": [],
   "source": [
    "good = 'this_is_a_good_file.ipynb' # all lower case and seperated by underscore\n",
    "bad = 'This is a bad filename, by Julius.Welzel.ipynb' # includes whitespace and comma"
   ]
  },
  {
   "cell_type": "markdown",
   "id": "f8e469d0",
   "metadata": {},
   "source": [
    "## Example 1"
   ]
  },
  {
   "cell_type": "code",
   "execution_count": 2,
   "id": "c2864902",
   "metadata": {},
   "outputs": [],
   "source": [
    "import numpy as np"
   ]
  },
  {
   "cell_type": "code",
   "execution_count": 3,
   "id": "3138e440",
   "metadata": {},
   "outputs": [
    {
     "data": {
      "text/plain": [
       "array(['Charlotte', 'Elli', 'Malena', 'Felix', 'Vanessa', 'Julius',\n",
       "       'Charlotte', 'Elli', 'Malena', 'Felix', 'Vanessa', 'Julius',\n",
       "       'Charlotte', 'Elli', 'Malena', 'Felix', 'Vanessa', 'Julius',\n",
       "       'Charlotte', 'Elli', 'Malena', 'Felix', 'Vanessa', 'Julius'],\n",
       "      dtype='<U9')"
      ]
     },
     "execution_count": 3,
     "metadata": {},
     "output_type": "execute_result"
    }
   ],
   "source": [
    "#variable erstellen, die zum Lösungsversuch mit np.random,choice passt\n",
    "mitbewohner_innen = np.tile ([\"Charlotte\", \"Elli\", \"Malena\", \"Felix\", \"Vanessa\", \"Julius\"], (4))\n",
    "mitbewohner_innen"
   ]
  },
  {
   "cell_type": "code",
   "execution_count": 4,
   "id": "eac3b360",
   "metadata": {},
   "outputs": [
    {
     "data": {
      "text/plain": [
       "array(['Vanessa', 'Vanessa', 'Vanessa', 'Malena', 'Julius', 'Malena',\n",
       "       'Elli', 'Elli', 'Vanessa', 'Julius', 'Felix', 'Vanessa', 'Felix',\n",
       "       'Elli', 'Vanessa', 'Malena', 'Vanessa', 'Charlotte', 'Vanessa',\n",
       "       'Vanessa', 'Elli', 'Vanessa', 'Julius', 'Felix'], dtype='<U9')"
      ]
     },
     "execution_count": 4,
     "metadata": {},
     "output_type": "execute_result"
    }
   ],
   "source": [
    "# Kalendertürchen verteilen. Es wird ein Array ausgegeben, der die Reihenfolge der Türchenöffnenden angibt. \n",
    "verteilen = np.random.choice(mitbewohner_innen , size = 24, replace = True, p = [(1/24),(1/24),(1/24),(1/24),(1/24),(1/24),(1/24),(1/24),(1/24),(1/24),(1/24),(1/24),(1/24),(1/24),(1/24),(1/24),(1/24),(1/24),(1/24),(1/24),(1/24),(1/24),(1/24),(1/24)])\n",
    "verteilen"
   ]
  },
  {
   "cell_type": "code",
   "execution_count": 5,
   "id": "5693c9da",
   "metadata": {},
   "outputs": [
    {
     "data": {
      "text/plain": [
       "array(['Julius', 'Charlotte', 'Malena', 'Vanessa', 'Julius', 'Felix',\n",
       "       'Elli', 'Elli', 'Julius', 'Charlotte', 'Malena', 'Vanessa', 'Elli',\n",
       "       'Julius', 'Vanessa', 'Charlotte', 'Elli', 'Malena', 'Malena',\n",
       "       'Elli', 'Felix', 'Vanessa', 'Julius', 'Felix'], dtype='<U9')"
      ]
     },
     "execution_count": 5,
     "metadata": {},
     "output_type": "execute_result"
    }
   ],
   "source": [
    "# Kalendertürchen verteilen. Es wird ein Array ausgegeben, der die Reihenfolge der Türchenöffnenden angibt. \n",
    "n_tuerchen = 24\n",
    "verteilen = np.random.choice(mitbewohner_innen , size = n_tuerchen, replace = True, p = [(1/n_tuerchen)] * n_tuerchen)\n",
    "verteilen"
   ]
  },
  {
   "cell_type": "markdown",
   "id": "1c64893a",
   "metadata": {},
   "source": [
    "## Example 2"
   ]
  },
  {
   "cell_type": "code",
   "execution_count": 6,
   "id": "88483bd6",
   "metadata": {},
   "outputs": [
    {
     "name": "stdout",
     "output_type": "stream",
     "text": [
      "Charlotte\n",
      "[17 22 24  6]\n",
      "Elli\n",
      "[ 1  4 20 10]\n",
      "Malena\n",
      "[21 15 16  7]\n",
      "Felix\n",
      "[ 5  9 23  3]\n",
      "Vanessa\n",
      "[19 12 14  8]\n",
      "Julius\n",
      "[11  2 13 18]\n"
     ]
    }
   ],
   "source": [
    "import numpy as np\n",
    "import random\n",
    "\n",
    "mitbewohner_innen = [\"Charlotte\", \"Elli\", \"Malena\", \"Felix\", \"Vanessa\", \"Julius\"]\n",
    "\n",
    "datum = np.arange(1,25,1, dtype = int)\n",
    "random.shuffle(datum)\n",
    "\n",
    "x = 0\n",
    "ind1 = 0\n",
    "ind2 = 0\n",
    "\n",
    "for i in mitbewohner_innen:\n",
    "    ind2 = ind2 + 4\n",
    "    list = datum[ind1:ind2]\n",
    "    print(mitbewohner_innen[x])\n",
    "    print(list)\n",
    "    x = x+1\n",
    "    ind1 = ind2"
   ]
  },
  {
   "cell_type": "code",
   "execution_count": 7,
   "id": "b9c2f971",
   "metadata": {},
   "outputs": [
    {
     "ename": "TypeError",
     "evalue": "'numpy.ndarray' object is not callable",
     "output_type": "error",
     "traceback": [
      "\u001b[1;31m---------------------------------------------------------------------------\u001b[0m",
      "\u001b[1;31mTypeError\u001b[0m                                 Traceback (most recent call last)",
      "Input \u001b[1;32mIn [7]\u001b[0m, in \u001b[0;36m<cell line: 1>\u001b[1;34m()\u001b[0m\n\u001b[1;32m----> 1\u001b[0m new_test_list \u001b[38;5;241m=\u001b[39m \u001b[38;5;28;43mlist\u001b[39;49m\u001b[43m(\u001b[49m\u001b[38;5;124;43m'\u001b[39;49m\u001b[38;5;124;43mchristmas\u001b[39;49m\u001b[38;5;124;43m'\u001b[39;49m\u001b[43m)\u001b[49m\n",
      "\u001b[1;31mTypeError\u001b[0m: 'numpy.ndarray' object is not callable"
     ]
    }
   ],
   "source": [
    "new_test_list = list('christmas')"
   ]
  },
  {
   "cell_type": "code",
   "execution_count": null,
   "id": "267f8ed1",
   "metadata": {},
   "outputs": [
    {
     "name": "stdout",
     "output_type": "stream",
     "text": [
      "Charlotte\n",
      "[16  9 13  3]\n",
      "Elli\n",
      "[ 5 10 14 15]\n",
      "Malena\n",
      "[21 22  6  1]\n",
      "Felix\n",
      "[24 23 12  4]\n",
      "Vanessa\n",
      "[ 2  7  8 18]\n",
      "Julius\n",
      "[20 11 17 19]\n"
     ]
    }
   ],
   "source": [
    "del list\n",
    "\n",
    "import numpy as np\n",
    "import random\n",
    "\n",
    "mitbewohner_innen = [\"Charlotte\", \"Elli\", \"Malena\", \"Felix\", \"Vanessa\", \"Julius\"]\n",
    "\n",
    "datum = np.arange(1,25,1, dtype = int)\n",
    "random.shuffle(datum)\n",
    "\n",
    "x = 0\n",
    "ind1 = 0\n",
    "ind2 = 0\n",
    "\n",
    "for i in mitbewohner_innen:\n",
    "    ind2 = ind2 + 4\n",
    "    date_list = datum[ind1:ind2]\n",
    "    print(mitbewohner_innen[x])\n",
    "    print(date_list)\n",
    "    x = x+1\n",
    "    ind1 = ind2"
   ]
  },
  {
   "cell_type": "code",
   "execution_count": null,
   "id": "09df9f61",
   "metadata": {},
   "outputs": [
    {
     "name": "stdout",
     "output_type": "stream",
     "text": [
      "['x', '-', 'm', 'a', 's']\n"
     ]
    }
   ],
   "source": [
    "new_test_list = list(\"x-mas\")\n",
    "print(new_test_list)"
   ]
  },
  {
   "cell_type": "markdown",
   "id": "ca7a7dbb",
   "metadata": {},
   "source": [
    "## Example 3"
   ]
  },
  {
   "cell_type": "code",
   "execution_count": null,
   "id": "655c128e",
   "metadata": {},
   "outputs": [
    {
     "name": "stdout",
     "output_type": "stream",
     "text": [
      " 1.12.2022: Elli\n",
      " 2.12.2022: Felix\n",
      " 3.12.2022: Charlotte\n",
      " 4.12.2022: Malena\n",
      " 5.12.2022: Julius\n",
      " 6.12.2022: Charlotte\n",
      " 7.12.2022: Malena\n",
      " 8.12.2022: Elli\n",
      " 9.12.2022: Elli\n",
      "10.12.2022: Felix\n",
      "11.12.2022: Charlotte\n",
      "12.12.2022: Felix\n",
      "13.12.2022: Malena\n",
      "14.12.2022: Felix\n",
      "15.12.2022: Elli\n",
      "16.12.2022: Vanessa\n",
      "17.12.2022: Vanessa\n",
      "18.12.2022: Julius\n",
      "19.12.2022: Malena\n",
      "20.12.2022: Vanessa\n",
      "21.12.2022: Julius\n",
      "22.12.2022: Vanessa\n",
      "23.12.2022: Charlotte\n",
      "24.12.2022: Julius\n"
     ]
    }
   ],
   "source": [
    "dates = np.arange(1, 25, 1, dtype = int)\n",
    "names = list(np.repeat([\"Charlotte\", \"Elli\", \"Malena\", \"Felix\", \"Vanessa\", \"Julius\"], 4))\n",
    "np.random.shuffle(names)\n",
    "    \n",
    "for i in range(len(dates)) :\n",
    "    print(f\"{dates[i]:>2}.12.2022: {names[i]}\")"
   ]
  },
  {
   "cell_type": "markdown",
   "id": "e30853ff",
   "metadata": {},
   "source": [
    "## One of many solutions"
   ]
  },
  {
   "cell_type": "code",
   "execution_count": null,
   "id": "37c4c3fb",
   "metadata": {},
   "outputs": [
    {
     "name": "stdout",
     "output_type": "stream",
     "text": [
      "   Adventskalender\n",
      "1        Charlotte\n",
      "2             Elli\n",
      "3            Felix\n",
      "4        Charlotte\n",
      "5           Julius\n",
      "6           Julius\n",
      "7          Vanessa\n",
      "8        Charlotte\n",
      "9           Malena\n",
      "10          Julius\n",
      "11            Elli\n",
      "12         Vanessa\n",
      "13           Felix\n",
      "14           Felix\n",
      "15         Vanessa\n",
      "16         Vanessa\n",
      "17          Malena\n",
      "18           Felix\n",
      "19          Malena\n",
      "20            Elli\n",
      "21          Julius\n",
      "22       Charlotte\n",
      "23            Elli\n",
      "24          Malena\n",
      "\n",
      " Julius bekommt 4 Päckchen\n"
     ]
    }
   ],
   "source": [
    "import pandas as pd\n",
    "from random import shuffle\n",
    "\n",
    "mitbewohner_innen = [\"Charlotte\", \"Elli\", \"Malena\", \"Felix\", \"Vanessa\", \"Julius\"]\n",
    "\n",
    "n_days = 24\n",
    "n_bewohner_innen = len(mitbewohner_innen)\n",
    "n_draws = n_days // n_bewohner_innen\n",
    "days = [i for i in range(1,n_days + 1)]\n",
    "adv_cal = mitbewohner_innen * n_draws\n",
    "\n",
    "shuffle(adv_cal)\n",
    "\n",
    "pd_cal = pd.DataFrame(adv_cal, index=days, columns =['Adventskalender'])\n",
    "print(pd_cal)\n",
    "\n",
    "n_my_draws = pd_cal[\"Adventskalender\"].str.count(\"Julius\").sum()\n",
    "print(f\"\\n Julius bekommt {n_my_draws} Päckchen\")"
   ]
  }
 ],
 "metadata": {
  "kernelspec": {
   "display_name": "Python 3.9.13 64-bit (microsoft store)",
   "language": "python",
   "name": "python3"
  },
  "language_info": {
   "codemirror_mode": {
    "name": "ipython",
    "version": 3
   },
   "file_extension": ".py",
   "mimetype": "text/x-python",
   "name": "python",
   "nbconvert_exporter": "python",
   "pygments_lexer": "ipython3",
   "version": "3.8.13"
  },
  "vscode": {
   "interpreter": {
    "hash": "23b4a3e8622309bcc6db3d5cc6eb73d60ab98d9ec23bad6a26b709981ccb403a"
   }
  }
 },
 "nbformat": 4,
 "nbformat_minor": 5
}
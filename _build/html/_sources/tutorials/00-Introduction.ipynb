{
 "cells": [
  {
   "cell_type": "markdown",
   "metadata": {
    "collapsed": true,
    "nbpresent": {
     "id": "7fc0cefe-8b1c-4ca9-aa39-094614969842"
    }
   },
   "source": [
    "# s00: Introduction\n",
    "\n",
    "Welcome to the hands on materials for psyM1-2 *(practical part)*.\n",
    "This notebook will guide through getting the tools you will need for data science related tasks."
   ]
  },
  {
   "cell_type": "markdown",
   "metadata": {},
   "source": [
    "### Prüfungsordnung\n",
    "\n",
    "First things first, why are you here and what are you doing? A closer look in the [Prüfungsordnung](http://www.studservice.uni-kiel.de/sta/fachpruefungsordnung-psychologie-master-1-fach.pdf) shed some lights on everything.\n"
   ]
  },
  {
   "cell_type": "markdown",
   "metadata": {},
   "source": [
    "<br>\n",
    "<img src=\"img/moduloverview.png\",width=\"250px\">\n",
    "<br>"
   ]
  },
  {
   "cell_type": "markdown",
   "metadata": {},
   "source": [
    "Another excerpt from the Prüfungsordnung: \n",
    "\n",
    "> Als zentrales Ziel des Masterstudiengangs sollen Voraussetzungen für das selbstständige und\n",
    "> eigenverantwortliche Arbeiten in den Berufsfeldern der Psychologie geschaffen werden. Dabei\n",
    "> werden auch Transferkompetenzen zur Verbindung wissenschaftlicher Erkenntnisse mit\n",
    "> **praktischen Handeln** erworben. <br>\n",
    "> *- FPO Psychologie M.Sc. 2020 - Seite 3/17* \n",
    "\n",
    "Therefore this seminar will provide you with some hands-on tools of psychological competence with a wide variety of used cases in the real-world."
   ]
  },
  {
   "cell_type": "markdown",
   "metadata": {},
   "source": [
    "\n"
   ]
  },
  {
   "cell_type": "markdown",
   "metadata": {
    "nbpresent": {
     "id": "b6153143-e694-4e86-96b0-243f56bad8d5"
    }
   },
   "source": [
    "### Tools\n",
    "\n",
    "These tutorials presume that you do already have some basic knowledge of programming. \n",
    "\n",
    "If you are somewhat unfamiliar with Python, we will make sure you feel comfortable with Python by the end of the seminar.\n",
    "\n",
    "The following are a series of tools that you will need for this class\n",
    "\n",
    "1. Anaconda\n",
    "2. git & GitHub Desktop\n",
    "\n",
    "Today we will go through them and how to set them up."
   ]
  },
  {
   "cell_type": "markdown",
   "metadata": {},
   "source": [
    "**Already have Python**?\n",
    "- If you are running code locally, we recommend you install a new version of Python with Anaconda, as described below\n",
    "- If you are on Mac, you have a native installation of python. This native installation of Python may be older, will not include the extra packages that you will need for this class, and is best left untouched. \n",
    "    - Downloading Anaconda will install a separate, independent install of Python, leaving your native install untouched. \n",
    "- Windows does not require Python natively and so it is not typically pre-installed."
   ]
  },
  {
   "cell_type": "markdown",
   "metadata": {},
   "source": [
    "<br>\n",
    "<br>\n",
    "<img src=\"img/anaconda.png\" width=\"350px\">\n",
    "<br>\n",
    "<br>"
   ]
  },
  {
   "cell_type": "markdown",
   "metadata": {},
   "source": [
    "<div class=\"alert alert-success\">\n",
    "Anaconda is an open-source distribution of Python, designed for scientific computing, data science and machine learning. \n",
    "</div>\n",
    "\n",
    "<div class=\"alert alert-info\">\n",
    "The anaconda website is \n",
    "<a href=\"https://www.anaconda.com\" class=\"alert-link\">here</a>,\n",
    "with the download page\n",
    "<a href=\"https://www.anaconda.com\" class=\"alert-link\">here</a>.\n",
    "</div>"
   ]
  },
  {
   "cell_type": "markdown",
   "metadata": {},
   "source": [
    "Anaconda itself is a distribution, meaning that is a version of Python with a collection of packages that are curated and maintained together. \n",
    "Using a pre-built distribution is useful, as it comes with the packages that you need for data science.\n",
    "Anaconda also comes with `conda`, which is a package manager, allowing you to download, install, and manage other packages. \n",
    "\n",
    "<div class=\"alert alert-danger\">\n",
    "Download and install Anaconda until the next session. (1 point)\n",
    "</div>"
   ]
  },
  {
   "cell_type": "markdown",
   "metadata": {},
   "source": [
    "<br>\n",
    "<br>\n",
    "<img src=\"https://raw.githubusercontent.com/COGS108/Tutorials/master/img/git.png\" width=\"300px\">\n",
    "<br>\n",
    "<br>"
   ]
  },
  {
   "cell_type": "markdown",
   "metadata": {
    "nbpresent": {
     "id": "6576af9c-b0f3-4cbe-9a02-06feaa61d0b0"
    }
   },
   "source": [
    "<div class=\"alert alert-success\">\n",
    "Git is a tool, a software package, for version control. \n",
    "</div>\n",
    "\n",
    "<div class=\"alert alert-info\">\n",
    "Install \n",
    "<a href=\"https://desktop.github.com/\" class=\"alert-link\">git</a>,\n",
    "if you don't already have it.\n",
    "</div>\n"
   ]
  },
  {
   "cell_type": "markdown",
   "metadata": {},
   "source": [
    "<br>\n",
    "<br>\n",
    "<img src=\"img\\ghdesktoplogo.png\" width=\"300px\">\n",
    "<br>\n",
    "<br>"
   ]
  },
  {
   "cell_type": "markdown",
   "metadata": {},
   "source": [
    "<div class=\"alert alert-success\">\n",
    "Github is an online hosting service that can be used with git, and offers online tools to use git. GitHub Desktop is the local IDE for git.\n",
    "</div>\n"
   ]
  },
  {
   "cell_type": "markdown",
   "metadata": {},
   "source": [
    "Git & GitHub are not the same thing, though, in practice, they are commonly used together, whereby git is used as a tool to version control code and manage multiple copies stored across your computer, as well as on remote repositories that are stored on Github.\n",
    "\n",
    "<div class=\"alert alert-danger\">\n",
    "Create an account at <a href=\"https://github.com/\" class=\"alert-link\">Github</a>. (1 point)\n",
    "</div>\n",
    "\n",
    "<div class=\"alert alert-danger\">\n",
    "Download and install GitHub Desktop until the next session. (1 point)\n",
    "</div>\n",
    "\n",
    "<div class=\"alert alert-danger\">\n",
    "Connect your Github account to your GitHub Desktop install. (1 point)\n",
    "</div>"
   ]
  },
  {
   "cell_type": "markdown",
   "metadata": {},
   "source": [
    "## Prerequisits\n",
    "\n",
    "Throughout these tutorials (as seen today), you will see colored 'alert' text:\n",
    "\n",
    "<div class=\"alert alert-success\">\n",
    "Green alerts provide key information and definitions.\n",
    "\n",
    "</div>\n",
    "\n",
    "<div class=\"alert alert-info\">\n",
    "Blue alerts provide links out to further sources.\n",
    "\n",
    "</div>\n",
    "\n",
    "<div class=\"alert alert-danger\">\n",
    "Red alerts will indicate task necessary to do in order to pass the seminar. \n",
    "\n",
    "</div>"
   ]
  }
 ],
 "metadata": {
  "anaconda-cloud": {},
  "kernelspec": {
   "display_name": "Python 3 (ipykernel)",
   "language": "python",
   "name": "python3"
  },
  "language_info": {
   "codemirror_mode": {
    "name": "ipython",
    "version": 3
   },
   "file_extension": ".py",
   "mimetype": "text/x-python",
   "name": "python",
   "nbconvert_exporter": "python",
   "pygments_lexer": "ipython3",
   "version": "3.9.13 (tags/v3.9.13:6de2ca5, May 17 2022, 16:36:42) [MSC v.1929 64 bit (AMD64)]"
  },
  "nbpresent": {
   "slides": {
    "3d09dc46-88c8-44cb-bc57-259db78a0e70": {
     "id": "3d09dc46-88c8-44cb-bc57-259db78a0e70",
     "prev": "8d1b5def-2290-42c9-8b06-1c6e0e495521",
     "regions": {
      "4601423d-c94d-46da-885b-fe33b0216c22": {
       "attrs": {
        "height": 1,
        "width": 1,
        "x": 0,
        "y": 0
       },
       "content": {
        "cell": "0f4dd046-4020-465c-85f6-3d92ac9fe145",
        "part": "whole"
       },
       "id": "4601423d-c94d-46da-885b-fe33b0216c22"
      }
     }
    },
    "8d1b5def-2290-42c9-8b06-1c6e0e495521": {
     "id": "8d1b5def-2290-42c9-8b06-1c6e0e495521",
     "prev": "bc666852-d015-42a1-b679-eaf92d5eb643",
     "regions": {
      "d0118c2f-7757-4efa-a276-96f162d312ae": {
       "attrs": {
        "height": 1,
        "width": 1,
        "x": 0,
        "y": 0
       },
       "content": {
        "cell": "d9d878d6-230b-4f1e-b2aa-2f152cb3fe8e",
        "part": "whole"
       },
       "id": "d0118c2f-7757-4efa-a276-96f162d312ae"
      }
     }
    },
    "b039dd05-8357-462a-9525-7f8103de436c": {
     "id": "b039dd05-8357-462a-9525-7f8103de436c",
     "prev": "3d09dc46-88c8-44cb-bc57-259db78a0e70",
     "regions": {
      "9180ab3f-f784-45a2-b2cc-a18aad800fc5": {
       "attrs": {
        "height": 1,
        "width": 1,
        "x": 0,
        "y": 0
       },
       "content": {
        "cell": "b57ed03a-8c01-4e48-95e8-9c6753e35088",
        "part": "whole"
       },
       "id": "9180ab3f-f784-45a2-b2cc-a18aad800fc5"
      }
     }
    },
    "bc666852-d015-42a1-b679-eaf92d5eb643": {
     "id": "bc666852-d015-42a1-b679-eaf92d5eb643",
     "layout": "grid",
     "prev": null,
     "regions": {
      "31cd776f-cc93-49d6-a40c-c590805cfb8f": {
       "attrs": {
        "height": 0.8333333333333334,
        "pad": 0.01,
        "width": 0.8333333333333334,
        "x": 0.08333333333333333,
        "y": 0.08333333333333333
       },
       "content": {
        "cell": "7fc0cefe-8b1c-4ca9-aa39-094614969842",
        "part": "whole"
       },
       "id": "31cd776f-cc93-49d6-a40c-c590805cfb8f"
      },
      "e1612c29-0f61-4692-9d6e-112e8d378e46": {
       "attrs": {
        "height": 0.8333333333333334,
        "pad": 0.01,
        "width": 0.8333333333333334,
        "x": 0.08333333333333333,
        "y": 0.08333333333333333
       },
       "content": {
        "cell": "7fc0cefe-8b1c-4ca9-aa39-094614969842",
        "part": "whole"
       },
       "id": "e1612c29-0f61-4692-9d6e-112e8d378e46"
      }
     }
    }
   },
   "themes": {}
  },
  "vscode": {
   "interpreter": {
    "hash": "23b4a3e8622309bcc6db3d5cc6eb73d60ab98d9ec23bad6a26b709981ccb403a"
   }
  }
 },
 "nbformat": 4,
 "nbformat_minor": 1
}

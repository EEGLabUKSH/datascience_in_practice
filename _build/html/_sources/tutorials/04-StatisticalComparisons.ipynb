{
 "cells": [
  {
   "cell_type": "markdown",
   "metadata": {},
   "source": [
    "# s04: Statistical Comparisons\n",
    "\n",
    "Whenever we have data, we often want to use statistical analyses to explore, compare, and quantify our data. \n",
    "\n",
    "In this notebook, we will briefly introduce and explore some common statistical tests that can be applied to data. \n",
    "\n",
    "As with many of the topics in data analysis and machine learning, this tutorial is focused on introducing some related topics for data science, and demonstrated their application in Python, but it is out of scope of these tutorials to systematically introduce and describe the topic at hand, which in this case is statistics. If the topics here are unfamiliar, we recommend you follow the links or look for other resources to learn more about these topics. "
   ]
  },
  {
   "cell_type": "code",
   "execution_count": 49,
   "metadata": {},
   "outputs": [],
   "source": [
    "%matplotlib inline\n",
    "\n",
    "import numpy as np\n",
    "import matplotlib.pyplot as plt\n",
    "import seaborn as sns\n",
    "\n",
    "from scipy.stats import norm"
   ]
  },
  {
   "cell_type": "code",
   "execution_count": 50,
   "metadata": {},
   "outputs": [],
   "source": [
    "# Set random seed, for consistency simulating data\n",
    "np.random.seed(21)"
   ]
  },
  {
   "cell_type": "markdown",
   "metadata": {},
   "source": [
    "## On Causality\n",
    "\n",
    "Before we dive into particular statistical tests, just a general reminder that though we would often like to understand the _causal structure_ of the data that we are interested in, this is generally not directly interpretable from statistical tests themselves. \n",
    "\n",
    "In the follow, we will explore some statistical tests for investigating if and when distributions of data are the same or different, and if and how related they are. These tests, by themselves, do not tell us about what causes what. Correlation is not causation.\n",
    "\n",
    "In the context of data science, this can be a limitation as we are often using previously collected datasets of convenience and observational datasets collected. Though we can explore the structure of the data, such datasets typically do not allow for causal interpretations."
   ]
  },
  {
   "cell_type": "markdown",
   "metadata": {},
   "source": [
    "## Correlations\n",
    "\n",
    "A common question we may be interested in is if two datasets, or two features of data, are related to each other. \n",
    "\n",
    "If they, we would also like to now _how_ related they are to each other. \n",
    "\n",
    "For this, we can calculate correlations between features. "
   ]
  },
  {
   "attachments": {},
   "cell_type": "markdown",
   "metadata": {},
   "source": [
    "<div class=\"alert alert-success\">\n",
    "Correlations are statistical dependencies or relationships between variables. \n",
    "<p></p>\n",
    "</div>\n",
    "\n",
    "<div class=\"alert alert-info\">\n",
    "Correlation on \n",
    "<a href=https://en.wikipedia.org/wiki/Correlation_and_dependence class=\"alert-link\">wikipedia</a>, \n",
    "including for the \n",
    "<a href=https://en.wikipedia.org/wiki/Pearson_correlation_coefficient class=\"alert-link\">pearson</a>, \n",
    "and \n",
    "<a href=https://en.wikipedia.org/wiki/Spearman%27s_rank_correlation_coefficient class=\"alert-link\">spearman</a>\n",
    "correlation measures.     \n",
    "<p></p>\n",
    "</div>"
   ]
  },
  {
   "cell_type": "code",
   "execution_count": 51,
   "metadata": {},
   "outputs": [],
   "source": [
    "from scipy.stats import pearsonr, spearmanr"
   ]
  },
  {
   "cell_type": "markdown",
   "metadata": {},
   "source": [
    "### Simulate Data\n",
    "\n",
    "First, let's simulate some data. \n",
    "\n",
    "For this example, we will simulate two arrays of data that do have a relationship to each other. "
   ]
  },
  {
   "cell_type": "code",
   "execution_count": 52,
   "metadata": {},
   "outputs": [],
   "source": [
    "# Settings for simulated data\n",
    "corr = 0.75\n",
    "covs = [[1, corr], [corr, 1]]\n",
    "means = [0, 0]\n",
    "\n",
    "# Generate the data (d1 and d2 are two normal distributed sets with a correlation of .75)\n",
    "d1, d2 = np.random.multivariate_normal(means, covs, 1000).T"
   ]
  },
  {
   "cell_type": "markdown",
   "metadata": {},
   "source": [
    "### Calculate Correlations\n",
    "\n",
    "Next, we can calculate the correlation coefficient between our data arrays, using the `pearsonr` function from `scipy.stats`. "
   ]
  },
  {
   "cell_type": "code",
   "execution_count": 53,
   "metadata": {},
   "outputs": [],
   "source": [
    "# Calculate a pearson correlation between two arrays of data\n",
    "r_val, p_val = pearsonr(d1, d2)"
   ]
  },
  {
   "cell_type": "code",
   "execution_count": 54,
   "metadata": {},
   "outputs": [
    {
     "name": "stdout",
     "output_type": "stream",
     "text": [
      "The correlation coefficient is 0.7732 with a p-value of 0.00.\n"
     ]
    }
   ],
   "source": [
    "print(f\"The correlation coefficient is {r_val:1.4f} with a p-value of {p_val:1.2f}.\")"
   ]
  },
  {
   "cell_type": "markdown",
   "metadata": {},
   "source": [
    "In this case, we have a high correlation coefficient, with a very low p-value. \n",
    "\n",
    "This suggests our data are strongly correlated!\n",
    "\n",
    "In this case, since we simulated the data, we know that this is a good estimation of the relationship between the data."
   ]
  },
  {
   "cell_type": "markdown",
   "metadata": {},
   "source": [
    "### Rank Correlations\n",
    "\n",
    "One thing to keep in mind is that the `pearson` correlation used above assumes that both data distributions are normally distributed.\n",
    "\n",
    "These assumptions should also be tested in data to be analyzed. \n",
    "\n",
    "Sometimes these assumptions will not be met. In that case, one option is to a different kind of correlation example. For example, the `spearman` correlation is a rank correlation that does not have the same assumptions as pearson."
   ]
  },
  {
   "cell_type": "code",
   "execution_count": 55,
   "metadata": {},
   "outputs": [
    {
     "name": "stdout",
     "output_type": "stream",
     "text": [
      "The correlation coefficient is 0.7595 with a p-value of 0.00.\n"
     ]
    }
   ],
   "source": [
    "# Calculate the spearman rank correlation between our data\n",
    "r_val, p_val = spearmanr(d1, d2)\n",
    "\n",
    "# Check the results of the spearman correlation\n",
    "print(f\"The correlation coefficient is {r_val:1.4f} with a p-value of {p_val:1.2f}.\")\n"
   ]
  },
  {
   "cell_type": "markdown",
   "metadata": {},
   "source": [
    "In this case, the measured values for `pearson` and `spearman` correlations are about the same, since both are appropriate for the properties of this data."
   ]
  },
  {
   "cell_type": "markdown",
   "metadata": {},
   "source": [
    "## T-Tests\n",
    "\n",
    "Another question we might often want to ask about data is to check and detect when there is a significant difference between collections of data. \n",
    "\n",
    "For example, we might want to analyze if there is a significant different in measured feature values between some groups of interest. \n",
    "\n",
    "To do so, we can use t-tests. \n",
    "\n",
    "There are different variants of t-test, including:\n",
    "- one sample t-test\n",
    "    - test the mean of one group of data\n",
    "- independent samples t-test\n",
    "    - test for a difference of means between two independent samples of data\n",
    "- related samples t-test\n",
    "    - test for a difference of means between two related samples of data\n",
    "    \n",
    "For this example, we will explore using the independent samples t-test. \n",
    "\n",
    "Functions for the other versions are also available in `scipy.stats`. "
   ]
  },
  {
   "attachments": {},
   "cell_type": "markdown",
   "metadata": {},
   "source": [
    "<div class=\"alert alert-success\">\n",
    "T-tests are statistical hypothesis tests for examining mean values and differences of groups of data. \n",
    "<p></p>\n",
    "</div>\n",
    "\n",
    "<div class=\"alert alert-info\">\n",
    "T-tests on\n",
    "<a href=https://en.wikipedia.org/wiki/Student%27s_t-test class=\"alert-link\">wikipedia</a>. \n",
    "<p></p>\n",
    "</div>"
   ]
  },
  {
   "cell_type": "code",
   "execution_count": 56,
   "metadata": {},
   "outputs": [],
   "source": [
    "from scipy.stats import ttest_ind"
   ]
  },
  {
   "cell_type": "markdown",
   "metadata": {},
   "source": [
    "### Simulate Data\n",
    "\n",
    "First, let's simulate some data. \n",
    "\n",
    "For this example, we will simulate two samples of normally distributed data. "
   ]
  },
  {
   "cell_type": "code",
   "execution_count": 57,
   "metadata": {},
   "outputs": [],
   "source": [
    "# Settings for data simulation\n",
    "n_samples = 250\n",
    "\n",
    "# Simulate some data\n",
    "d1 = norm.rvs(loc=0.5, scale=1, size=n_samples)\n",
    "d2 = norm.rvs(loc=0.75, scale=1, size=n_samples)"
   ]
  },
  {
   "cell_type": "code",
   "execution_count": 58,
   "metadata": {},
   "outputs": [
    {
     "data": {
      "image/png": "[encoded data removed]",
      "text/plain": [
       "<Figure size 432x288 with 1 Axes>"
      ]
     },
     "metadata": {
      "needs_background": "light"
     },
     "output_type": "display_data"
    }
   ],
   "source": [
    "# Visualize our data comparison\n",
    "plt.hist(d1, alpha=0.5, label='d1');\n",
    "plt.axvline(np.mean(d1), linestyle='--', linewidth=2, color='blue')\n",
    "plt.hist(d2, alpha=0.5, label='d2');\n",
    "plt.axvline(np.mean(d2), linestyle='--', linewidth=2, color='orange')\n",
    "plt.legend();"
   ]
  },
  {
   "cell_type": "markdown",
   "metadata": {},
   "source": [
    "### Calculate T-Tests\n",
    "\n",
    "Now that we have some data, let's use a t-tests to statistically compare the two groups of data. \n",
    "\n",
    "For this example, we will test whether the two distributions have significantly different means. "
   ]
  },
  {
   "cell_type": "code",
   "execution_count": 59,
   "metadata": {},
   "outputs": [],
   "source": [
    "# Run independent samples t-test\n",
    "t_val, p_val = ttest_ind(d1, d2)"
   ]
  },
  {
   "cell_type": "code",
   "execution_count": 60,
   "metadata": {},
   "outputs": [
    {
     "name": "stdout",
     "output_type": "stream",
     "text": [
      "T-Test comparison of d1 & d2:\n",
      "\t T-value \t -2.2502\n",
      "\t p-value \t 2.49e-02\n"
     ]
    }
   ],
   "source": [
    "# Check the results of the t-test\n",
    "print(f'T-Test comparison of d1 & d2:')\n",
    "print(f'\\t T-value \\t {t_val:1.4f}')\n",
    "print(f'\\t p-value \\t {p_val:1.2e}')"
   ]
  },
  {
   "cell_type": "markdown",
   "metadata": {},
   "source": [
    "In this case, the t-test shows that there is a significant difference in the mean of the two arrays of data!"
   ]
  },
  {
   "cell_type": "markdown",
   "metadata": {},
   "source": [
    "### Assumptions of T-Tests\n",
    "\n",
    "Note, again, that t-tests assume normally distributed data. This is again a property of the data that should be examined before applying statistical tests. If this assumption is not met, other approaches for comparing the data may be needed."
   ]
  },
  {
   "attachments": {},
   "cell_type": "markdown",
   "metadata": {},
   "source": [
    "## Effect Size\n",
    "\n",
    "One thing to keep in mind about hypothesis tests such as the t-test above is that they while they can be used to _is there a difference_ between two sets of data, they do not answer the question of _how different are they_.\n",
    "Often, we would also like to measure how different groups of data are. To do so, we can use effect size measures, which can be used to estimate the magnitude of changes or differences. There are many methods and approaches to measuring effect sizes across different contexts. \n",
    "\n",
    "For this example, we will use cohens-d effect size estimate for differences in means."
   ]
  },
  {
   "attachments": {},
   "cell_type": "markdown",
   "metadata": {},
   "source": [
    "<div class=\"alert alert-success\">\n",
    "Effect size measurements are measurements of the magnitude of a particular effect.\n",
    "<p></p>\n",
    "</div>\n",
    "\n",
    "<div class=\"alert alert-info\">\n",
    "Effect sizes on \n",
    "<a href=https://en.wikipedia.org/wiki/Effect_size class=\"alert-link\">wikipedia</a>. You can find a great blog post about cohen's d <a href= https://rpsychologist.com/cohend/ class=\"alert-link\">here</a>.\n",
    "<p></p>\n",
    "</div> "
   ]
  },
  {
   "attachments": {},
   "cell_type": "markdown",
   "metadata": {},
   "source": [
    "### Defining Effect Size Code\n",
    "\n",
    "Often, when analyzing data, we will want to apply some measure that we may not find already available, in which case we may need to implement a version ourselves. \n",
    "\n",
    "For this example, we will implement cohens-d, an effect size measure for differences of means. Briefly, is a calculation of the difference of means between two distributions, divided by the pooled standard deviation. As such, cohens-d is a standardized measure, meaning the output value is independent of the units of the inputs. "
   ]
  },
  {
   "attachments": {},
   "cell_type": "markdown",
   "metadata": {},
   "source": [
    "The formula to calculate the pooled standard deviation is:\n",
    "\n",
    "$$ SD_{pooled}= \\sqrt{\\frac{[(n_1 - 1) * (SD_1)^2] + [(n_2 - 1) * (SD_2)^2]}{n_1 + n_2 - 2}} $$\n",
    "\n",
    "The formula to calculate **Cohen’s d** is:\n",
    "\n",
    "$$ d = \\frac{M_1 - M_2}{SD_{pooled}} $$\n"
   ]
  },
  {
   "attachments": {},
   "cell_type": "markdown",
   "metadata": {},
   "source": [
    "Note that `math` and `statistics` are standard library modules that contain some useful basic numerical functionality."
   ]
  },
  {
   "cell_type": "code",
   "execution_count": 61,
   "metadata": {},
   "outputs": [],
   "source": [
    "from math import sqrt\n",
    "from statistics import mean, stdev\n",
    "\n",
    "def compute_cohens_d(data_1, data_2):\n",
    "    \"\"\"Compute cohens-d effect size.\n",
    "    \n",
    "    Parameters\n",
    "    ----------\n",
    "    data_1, data_2 : 1d array\n",
    "        Array of data to compute the effect size between.\n",
    "        \n",
    "    Returns\n",
    "    -------\n",
    "    cohens_d : float\n",
    "        The computed effect size measure. \n",
    "    \"\"\"\n",
    "\n",
    "    # Calculate group means\n",
    "    d1_mean = mean(data_1)\n",
    "    d2_mean = mean(data_2)\n",
    "    \n",
    "    # Calculate group standard deviations\n",
    "    d1_std = stdev(data_1)\n",
    "    d2_std = stdev(data_2)\n",
    "    \n",
    "    # Calculate the pooled standard deviation\n",
    "    pooled_std = sqrt((d1_std ** 2 + d2_std ** 2) / 2)\n",
    "    \n",
    "    # Calculate cohens-d\n",
    "    cohens_d = (d1_mean - d2_mean) / pooled_std\n",
    "\n",
    "    return cohens_d"
   ]
  },
  {
   "cell_type": "code",
   "execution_count": 62,
   "metadata": {},
   "outputs": [],
   "source": [
    "# Calculate the cohens-d effect size for our simulated data from before\n",
    "cohens_d = compute_cohens_d(d2, d1)"
   ]
  },
  {
   "cell_type": "code",
   "execution_count": 63,
   "metadata": {},
   "outputs": [
    {
     "name": "stdout",
     "output_type": "stream",
     "text": [
      "The cohens-d effect size is 0.20.\n"
     ]
    }
   ],
   "source": [
    "# Check the measured value of the effect size\n",
    "print(f'The cohens-d effect size is {cohens_d:1.2f}.')"
   ]
  },
  {
   "cell_type": "markdown",
   "metadata": {},
   "source": [
    "A cohens-d effect size of ~0.2 is a small or modest effect. \n",
    "\n",
    "In combination with our t-test above, we can conclude that there is a difference of means between the two groups of data, but that the magnitude of this difference is relatively small. "
   ]
  },
  {
   "attachments": {},
   "cell_type": "markdown",
   "metadata": {},
   "source": [
    "## Exercise"
   ]
  },
  {
   "attachments": {},
   "cell_type": "markdown",
   "metadata": {},
   "source": [
    "For this exercise we will use the taxis dataset from the seaborn package. First load the data as follows:"
   ]
  },
  {
   "cell_type": "code",
   "execution_count": 64,
   "metadata": {},
   "outputs": [
    {
     "data": {
      "text/html": [
       "<div>\n",
       "<style scoped>\n",
       "    .dataframe tbody tr th:only-of-type {\n",
       "        vertical-align: middle;\n",
       "    }\n",
       "\n",
       "    .dataframe tbody tr th {\n",
       "        vertical-align: top;\n",
       "    }\n",
       "\n",
       "    .dataframe thead th {\n",
       "        text-align: right;\n",
       "    }\n",
       "</style>\n",
       "<table border=\"1\" class=\"dataframe\">\n",
       "  <thead>\n",
       "    <tr style=\"text-align: right;\">\n",
       "      <th></th>\n",
       "      <th>pickup</th>\n",
       "      <th>dropoff</th>\n",
       "      <th>passengers</th>\n",
       "      <th>distance</th>\n",
       "      <th>fare</th>\n",
       "      <th>tip</th>\n",
       "      <th>tolls</th>\n",
       "      <th>total</th>\n",
       "      <th>color</th>\n",
       "      <th>payment</th>\n",
       "      <th>pickup_zone</th>\n",
       "      <th>dropoff_zone</th>\n",
       "      <th>pickup_borough</th>\n",
       "      <th>dropoff_borough</th>\n",
       "    </tr>\n",
       "  </thead>\n",
       "  <tbody>\n",
       "    <tr>\n",
       "      <th>0</th>\n",
       "      <td>2019-03-23 20:21:09</td>\n",
       "      <td>2019-03-23 20:27:24</td>\n",
       "      <td>1</td>\n",
       "      <td>1.60</td>\n",
       "      <td>7.0</td>\n",
       "      <td>2.15</td>\n",
       "      <td>0.0</td>\n",
       "      <td>12.95</td>\n",
       "      <td>yellow</td>\n",
       "      <td>credit card</td>\n",
       "      <td>Lenox Hill West</td>\n",
       "      <td>UN/Turtle Bay South</td>\n",
       "      <td>Manhattan</td>\n",
       "      <td>Manhattan</td>\n",
       "    </tr>\n",
       "    <tr>\n",
       "      <th>1</th>\n",
       "      <td>2019-03-04 16:11:55</td>\n",
       "      <td>2019-03-04 16:19:00</td>\n",
       "      <td>1</td>\n",
       "      <td>0.79</td>\n",
       "      <td>5.0</td>\n",
       "      <td>0.00</td>\n",
       "      <td>0.0</td>\n",
       "      <td>9.30</td>\n",
       "      <td>yellow</td>\n",
       "      <td>cash</td>\n",
       "      <td>Upper West Side South</td>\n",
       "      <td>Upper West Side South</td>\n",
       "      <td>Manhattan</td>\n",
       "      <td>Manhattan</td>\n",
       "    </tr>\n",
       "    <tr>\n",
       "      <th>2</th>\n",
       "      <td>2019-03-27 17:53:01</td>\n",
       "      <td>2019-03-27 18:00:25</td>\n",
       "      <td>1</td>\n",
       "      <td>1.37</td>\n",
       "      <td>7.5</td>\n",
       "      <td>2.36</td>\n",
       "      <td>0.0</td>\n",
       "      <td>14.16</td>\n",
       "      <td>yellow</td>\n",
       "      <td>credit card</td>\n",
       "      <td>Alphabet City</td>\n",
       "      <td>West Village</td>\n",
       "      <td>Manhattan</td>\n",
       "      <td>Manhattan</td>\n",
       "    </tr>\n",
       "    <tr>\n",
       "      <th>3</th>\n",
       "      <td>2019-03-10 01:23:59</td>\n",
       "      <td>2019-03-10 01:49:51</td>\n",
       "      <td>1</td>\n",
       "      <td>7.70</td>\n",
       "      <td>27.0</td>\n",
       "      <td>6.15</td>\n",
       "      <td>0.0</td>\n",
       "      <td>36.95</td>\n",
       "      <td>yellow</td>\n",
       "      <td>credit card</td>\n",
       "      <td>Hudson Sq</td>\n",
       "      <td>Yorkville West</td>\n",
       "      <td>Manhattan</td>\n",
       "      <td>Manhattan</td>\n",
       "    </tr>\n",
       "    <tr>\n",
       "      <th>4</th>\n",
       "      <td>2019-03-30 13:27:42</td>\n",
       "      <td>2019-03-30 13:37:14</td>\n",
       "      <td>3</td>\n",
       "      <td>2.16</td>\n",
       "      <td>9.0</td>\n",
       "      <td>1.10</td>\n",
       "      <td>0.0</td>\n",
       "      <td>13.40</td>\n",
       "      <td>yellow</td>\n",
       "      <td>credit card</td>\n",
       "      <td>Midtown East</td>\n",
       "      <td>Yorkville West</td>\n",
       "      <td>Manhattan</td>\n",
       "      <td>Manhattan</td>\n",
       "    </tr>\n",
       "  </tbody>\n",
       "</table>\n",
       "</div>"
      ],
      "text/plain": [
       "               pickup             dropoff  passengers  distance  fare   tip  \\\n",
       "0 2019-03-23 20:21:09 2019-03-23 20:27:24           1      1.60   7.0  2.15   \n",
       "1 2019-03-04 16:11:55 2019-03-04 16:19:00           1      0.79   5.0  0.00   \n",
       "2 2019-03-27 17:53:01 2019-03-27 18:00:25           1      1.37   7.5  2.36   \n",
       "3 2019-03-10 01:23:59 2019-03-10 01:49:51           1      7.70  27.0  6.15   \n",
       "4 2019-03-30 13:27:42 2019-03-30 13:37:14           3      2.16   9.0  1.10   \n",
       "\n",
       "   tolls  total   color      payment            pickup_zone  \\\n",
       "0    0.0  12.95  yellow  credit card        Lenox Hill West   \n",
       "1    0.0   9.30  yellow         cash  Upper West Side South   \n",
       "2    0.0  14.16  yellow  credit card          Alphabet City   \n",
       "3    0.0  36.95  yellow  credit card              Hudson Sq   \n",
       "4    0.0  13.40  yellow  credit card           Midtown East   \n",
       "\n",
       "            dropoff_zone pickup_borough dropoff_borough  \n",
       "0    UN/Turtle Bay South      Manhattan       Manhattan  \n",
       "1  Upper West Side South      Manhattan       Manhattan  \n",
       "2           West Village      Manhattan       Manhattan  \n",
       "3         Yorkville West      Manhattan       Manhattan  \n",
       "4         Yorkville West      Manhattan       Manhattan  "
      ]
     },
     "execution_count": 64,
     "metadata": {},
     "output_type": "execute_result"
    }
   ],
   "source": [
    "df = sns.load_dataset(\"taxis\")\n",
    "df.head()"
   ]
  },
  {
   "attachments": {},
   "cell_type": "markdown",
   "metadata": {},
   "source": [
    "You can see we have data for several taxis trips in New York City. More information about the dataset can be found [here](https://www.nyc.gov/site/tlc/about/tlc-trip-record-data.page)."
   ]
  },
  {
   "attachments": {},
   "cell_type": "markdown",
   "metadata": {},
   "source": [
    "<div class=\"alert alert-danger\">\n",
    "Task 4.1: Write a function that takes distance and tip as inputs and tests for normal distribution of the two. Depending on the outcome of the test calculate the appropriate correltaion between the two. The function should return the correlation coefficient and the p-value as variables and print what type of correlation was used (2 points).\n",
    "<p> </p>\n",
    "</div>"
   ]
  },
  {
   "attachments": {},
   "cell_type": "markdown",
   "metadata": {},
   "source": [
    "<div class=\"alert alert-danger\">\n",
    "Task 4.2: Make a scatterplot with distance on the x-axis and tip on the y-axis and label the plot accordingly (2 points).\n",
    "<p> </p>\n",
    "</div>"
   ]
  }
 ],
 "metadata": {
  "kernelspec": {
   "display_name": "Python 3.9.13 64-bit (windows store)",
   "language": "python",
   "name": "python3"
  },
  "language_info": {
   "codemirror_mode": {
    "name": "ipython",
    "version": 3
   },
   "file_extension": ".py",
   "mimetype": "text/x-python",
   "name": "python",
   "nbconvert_exporter": "python",
   "pygments_lexer": "ipython3",
   "version": "3.9.13 (tags/v3.9.13:6de2ca5, May 17 2022, 16:36:42) [MSC v.1929 64 bit (AMD64)]"
  },
  "vscode": {
   "interpreter": {
    "hash": "23b4a3e8622309bcc6db3d5cc6eb73d60ab98d9ec23bad6a26b709981ccb403a"
   }
  }
 },
 "nbformat": 4,
 "nbformat_minor": 2
}
